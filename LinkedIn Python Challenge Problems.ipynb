{
 "cells": [
  {
   "cell_type": "markdown",
   "metadata": {},
   "source": [
    "# Challenge 1: Find Prime Factors"
   ]
  },
  {
   "cell_type": "code",
   "execution_count": 13,
   "metadata": {},
   "outputs": [],
   "source": [
    "from math import ceil"
   ]
  },
  {
   "cell_type": "code",
   "execution_count": 43,
   "metadata": {},
   "outputs": [
    {
     "name": "stdout",
     "output_type": "stream",
     "text": [
      "Enter an integer value: 12\n"
     ]
    }
   ],
   "source": [
    "number = int(input(\"Enter an integer value: \"))"
   ]
  },
  {
   "cell_type": "code",
   "execution_count": 46,
   "metadata": {},
   "outputs": [],
   "source": [
    "list=[]\n",
    "\n",
    "for i in range(2,int(ceil(number/2))+1):\n",
    "    if(number % i ==0):\n",
    "        list.append(i)"
   ]
  },
  {
   "cell_type": "code",
   "execution_count": 47,
   "metadata": {},
   "outputs": [
    {
     "name": "stdout",
     "output_type": "stream",
     "text": [
      "The factor(s) of 12 are [2, 3, 4, 6]\n"
     ]
    }
   ],
   "source": [
    "if bool(list) == False:\n",
    "    list.append(number)\n",
    "    print(\"The number {} is a prime number\".format(number))\n",
    "else:\n",
    "    print(\"The factor(s) of {} are {}\".format(number, list))"
   ]
  },
  {
   "cell_type": "markdown",
   "metadata": {},
   "source": [
    "# Challenge 1 - Modifications\n",
    "## For a number like 9, instead of printing factor only as 3, print [3,3]"
   ]
  },
  {
   "cell_type": "code",
   "execution_count": 5,
   "metadata": {},
   "outputs": [],
   "source": [
    "from math import ceil"
   ]
  },
  {
   "cell_type": "code",
   "execution_count": 66,
   "metadata": {},
   "outputs": [
    {
     "name": "stdout",
     "output_type": "stream",
     "text": [
      "Enter an integer value: 630\n"
     ]
    }
   ],
   "source": [
    "number = int(input(\"Enter an integer value: \"))"
   ]
  },
  {
   "cell_type": "code",
   "execution_count": 67,
   "metadata": {},
   "outputs": [],
   "source": [
    "factors_list=[]\n",
    "original_number = number\n",
    "for i in range(2,int(ceil(number/2))+1):\n",
    "    while (number % i == 0):\n",
    "        factors_list.append(i)\n",
    "        number = number/i\n",
    "    else:\n",
    "        if (number == 1):\n",
    "            break"
   ]
  },
  {
   "cell_type": "code",
   "execution_count": 69,
   "metadata": {},
   "outputs": [
    {
     "name": "stdout",
     "output_type": "stream",
     "text": [
      "The prime factors of 630 are [2, 3, 3, 5, 7]\n"
     ]
    }
   ],
   "source": [
    "if bool(factors_list) == False:\n",
    "    factors_list.append(original_number)\n",
    "    print(\"The number {} is a prime number with its prime factor being itself \".format(original_number, factors_list))\n",
    "else:\n",
    "    print(\"The prime factors of {} are {}\".format(original_number, factors_list))"
   ]
  },
  {
   "cell_type": "markdown",
   "metadata": {},
   "source": [
    "# Challenge 2: Find if a string is a Palindrome or not\n",
    "## Ignore all characters except letters"
   ]
  },
  {
   "cell_type": "code",
   "execution_count": 3,
   "metadata": {},
   "outputs": [],
   "source": [
    "import re"
   ]
  },
  {
   "cell_type": "code",
   "execution_count": 65,
   "metadata": {},
   "outputs": [
    {
     "name": "stdout",
     "output_type": "stream",
     "text": [
      "Enter a string:  Go hang a salami - I'm a lasagna hog\n"
     ]
    }
   ],
   "source": [
    "string = input(\"Enter a string: \")"
   ]
  },
  {
   "cell_type": "code",
   "execution_count": 69,
   "metadata": {},
   "outputs": [],
   "source": [
    "clean_string = \"\".join(re.sub(\"([^A-Za-z])|(\\w+:\\/\\/\\S+)\", \"\", string)).lower()\n",
    "## clean_string = \"\".join(re.findall(r'[a-z]+, string.lower()))     ## check this, doesn't work"
   ]
  },
  {
   "cell_type": "code",
   "execution_count": 70,
   "metadata": {},
   "outputs": [
    {
     "data": {
      "text/plain": [
       "'gohangasalamiimalasagnahog'"
      ]
     },
     "execution_count": 70,
     "metadata": {},
     "output_type": "execute_result"
    }
   ],
   "source": [
    "clean_string"
   ]
  },
  {
   "cell_type": "code",
   "execution_count": 71,
   "metadata": {},
   "outputs": [],
   "source": [
    "## Ways to reverse a string\n",
    "\n",
    "reversed_string = clean_string[::-1]\n",
    "## reversed_string = \"\".join(reversed(clean_string))"
   ]
  },
  {
   "cell_type": "code",
   "execution_count": 72,
   "metadata": {},
   "outputs": [
    {
     "data": {
      "text/plain": [
       "'gohangasalamiimalasagnahog'"
      ]
     },
     "execution_count": 72,
     "metadata": {},
     "output_type": "execute_result"
    }
   ],
   "source": [
    "reversed_string"
   ]
  },
  {
   "cell_type": "code",
   "execution_count": 73,
   "metadata": {},
   "outputs": [
    {
     "name": "stdout",
     "output_type": "stream",
     "text": [
      "' Go hang a salami - I'm a lasagna hog' is a palindrome\n"
     ]
    }
   ],
   "source": [
    "if clean_string == reversed_string:\n",
    "    print(\"'{}' is a palindrome\".format(string))\n",
    "else:\n",
    "    print(\"String '{}' is not a palindrome\".format(string))"
   ]
  },
  {
   "cell_type": "markdown",
   "metadata": {},
   "source": [
    "# Challenge 3: Sort words of a string alphabetcally irrespective of the case."
   ]
  },
  {
   "cell_type": "code",
   "execution_count": 45,
   "metadata": {},
   "outputs": [],
   "source": [
    "import re"
   ]
  },
  {
   "cell_type": "code",
   "execution_count": 46,
   "metadata": {},
   "outputs": [
    {
     "name": "stdout",
     "output_type": "stream",
     "text": [
      "Enter a string: This is FINE now\n"
     ]
    }
   ],
   "source": [
    "string = input(\"Enter a string: \")"
   ]
  },
  {
   "cell_type": "code",
   "execution_count": 47,
   "metadata": {},
   "outputs": [],
   "source": [
    "clean_string = \"\".join(re.sub(\"([^A-Za-z \\t])|(\\w+:\\/\\/\\S+)\", \"\", string))"
   ]
  },
  {
   "cell_type": "code",
   "execution_count": 48,
   "metadata": {},
   "outputs": [
    {
     "data": {
      "text/plain": [
       "'This is FINE now'"
      ]
     },
     "execution_count": 48,
     "metadata": {},
     "output_type": "execute_result"
    }
   ],
   "source": [
    "clean_string"
   ]
  },
  {
   "cell_type": "code",
   "execution_count": 54,
   "metadata": {},
   "outputs": [],
   "source": [
    "new_string = sorted(clean_string.split(), key=str.lower)"
   ]
  },
  {
   "cell_type": "code",
   "execution_count": 55,
   "metadata": {},
   "outputs": [
    {
     "data": {
      "text/plain": [
       "['FINE', 'is', 'now', 'This']"
      ]
     },
     "execution_count": 55,
     "metadata": {},
     "output_type": "execute_result"
    }
   ],
   "source": [
    "new_string"
   ]
  },
  {
   "cell_type": "code",
   "execution_count": 57,
   "metadata": {},
   "outputs": [],
   "source": [
    "# Challenge 4: Find all list item index"
   ]
  },
  {
   "cell_type": "code",
   "execution_count": null,
   "metadata": {},
   "outputs": [],
   "source": []
  }
 ],
 "metadata": {
  "kernelspec": {
   "display_name": "Python 3",
   "language": "python",
   "name": "python3"
  },
  "language_info": {
   "codemirror_mode": {
    "name": "ipython",
    "version": 3
   },
   "file_extension": ".py",
   "mimetype": "text/x-python",
   "name": "python",
   "nbconvert_exporter": "python",
   "pygments_lexer": "ipython3",
   "version": "3.7.4"
  }
 },
 "nbformat": 4,
 "nbformat_minor": 2
}
